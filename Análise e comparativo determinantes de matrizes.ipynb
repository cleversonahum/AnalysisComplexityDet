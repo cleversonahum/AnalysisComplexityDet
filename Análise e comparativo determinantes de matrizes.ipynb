{
 "cells": [
  {
   "cell_type": "markdown",
   "metadata": {},
   "source": [
    "# Análise e comparativo determinantes de matrizes"
   ]
  },
  {
   "cell_type": "markdown",
   "metadata": {},
   "source": [
    "Para a análise e comparação usaremos 3 algoritmos com diferentes complexidades para a ordenação de vetores, sendo os algoritmos: Bubble Sort, Quick Sort e Gnome Sort [wiki](https://en.wikipedia.org/wiki/Sorting_algorithm#Comparison_of_algorithms)"
   ]
  },
  {
   "cell_type": "code",
   "execution_count": 1,
   "metadata": {},
   "outputs": [],
   "source": [
    "%matplotlib inline\n",
    "import numpy as np\n",
    "import timeit\n",
    "\n",
    "#Algoritmo Bubble sort baseado em http://interactivepython.org/runestone/static/pythonds/SortSearch/TheBubbleSort.html\n",
    "def bubbleSort(alist):\n",
    "    for passnum in range(len(alist)-1,0,-1):\n",
    "        for i in range(passnum):\n",
    "            if alist[i]>alist[i+1]:\n",
    "                temp = alist[i]\n",
    "                alist[i] = alist[i+1]\n",
    "                alist[i+1] = temp"
   ]
  },
  {
   "cell_type": "code",
   "execution_count": 2,
   "metadata": {},
   "outputs": [],
   "source": [
    "def gnomeSort(lista):\n",
    "  pivot = 0\n",
    "  lista_length = len(lista) \n",
    "  while pivot < lista_length - 1:\n",
    "    if lista[pivot] > lista[pivot + 1]:\n",
    "      lista[pivot + 1], lista[pivot] = lista[pivot], lista[pivot + 1]\n",
    "      if pivot > 0:\n",
    "        pivot -= 2\n",
    "    pivot += 1"
   ]
  },
  {
   "cell_type": "code",
   "execution_count": 3,
   "metadata": {},
   "outputs": [],
   "source": [
    "#Algoritmo Quick Sort baseado em http://interactivepython.org/courselib/static/pythonds/SortSearch/TheQuickSort.html\n",
    "def quickSort(alist):\n",
    "   quickSortHelper(alist,0,len(alist)-1)\n",
    "\n",
    "def quickSortHelper(alist,first,last):\n",
    "   if first<last:\n",
    "\n",
    "       splitpoint = partition(alist,first,last)\n",
    "\n",
    "       quickSortHelper(alist,first,splitpoint-1)\n",
    "       quickSortHelper(alist,splitpoint+1,last)\n",
    "\n",
    "\n",
    "def partition(alist,first,last):\n",
    "   pivotvalue = alist[first]\n",
    "\n",
    "   leftmark = first+1\n",
    "   rightmark = last\n",
    "\n",
    "   done = False\n",
    "   while not done:\n",
    "\n",
    "       while leftmark <= rightmark and alist[leftmark] <= pivotvalue:\n",
    "           leftmark = leftmark + 1\n",
    "\n",
    "       while alist[rightmark] >= pivotvalue and rightmark >= leftmark:\n",
    "           rightmark = rightmark -1\n",
    "\n",
    "       if rightmark < leftmark:\n",
    "           done = True\n",
    "       else:\n",
    "           temp = alist[leftmark]\n",
    "           alist[leftmark] = alist[rightmark]\n",
    "           alist[rightmark] = temp\n",
    "\n",
    "   temp = alist[first]\n",
    "   alist[first] = alist[rightmark]\n",
    "   alist[rightmark] = temp\n",
    "\n",
    "\n",
    "   return rightmark"
   ]
  },
  {
   "cell_type": "code",
   "execution_count": 4,
   "metadata": {},
   "outputs": [],
   "source": [
    "# Para os testes utilizaremos quatro arrays de variados tamanhos, o primeiro contendo 20 valores, o segundo terá 50, o terceiro 100 e o quarto 1000 valores.\n",
    "# Os valores serão embaralhados para que os algoritmos sejam testados\n",
    "primeirob = np.array(range(1,101))\n",
    "segundob = np.array(range(1,201))\n",
    "terceirob = np.array(range(1,301))\n",
    "quartob = np.array(range(1,401))\n",
    "np.random.shuffle(primeirob)\n",
    "np.random.shuffle(segundob)\n",
    "np.random.shuffle(terceirob)\n",
    "np.random.shuffle(quartob)\n",
    "primeiroq = primeirob.copy()\n",
    "segundoq = segundob.copy()\n",
    "terceiroq = terceirob.copy()\n",
    "quartoq = quartob.copy()\n",
    "primeirog = primeirob.copy()\n",
    "segundog = segundob.copy()\n",
    "terceirog = terceirob.copy()\n",
    "quartog = quartob.copy()\n",
    "\n",
    "def wrapper(func, *args, **kwargs):\n",
    "    def wrapped():\n",
    "        return func(*args, **kwargs)\n",
    "    return wrapped"
   ]
  },
  {
   "cell_type": "code",
   "execution_count": 5,
   "metadata": {},
   "outputs": [
    {
     "data": {
      "text/plain": [
       "1.2773495439996623"
      ]
     },
     "metadata": {},
     "output_type": "display_data"
    },
    {
     "data": {
      "text/plain": [
       "5.426505368000107"
      ]
     },
     "metadata": {},
     "output_type": "display_data"
    },
    {
     "data": {
      "text/plain": [
       "13.880070379999779"
      ]
     },
     "metadata": {},
     "output_type": "display_data"
    },
    {
     "data": {
      "text/plain": [
       "20.644569187000343"
      ]
     },
     "metadata": {},
     "output_type": "display_data"
    }
   ],
   "source": [
    "#Testando Bubble Sort\n",
    "#Primeiro\n",
    "wrapped = wrapper(bubbleSort, primeirob)\n",
    "display(timeit.timeit(wrapped, number=1000))\n",
    "\n",
    "#Segundo\n",
    "wrapped = wrapper(bubbleSort, segundob)\n",
    "display(timeit.timeit(wrapped, number=1000))\n",
    "\n",
    "#Terceiro\n",
    "wrapped = wrapper(bubbleSort, terceirob)\n",
    "display(timeit.timeit(wrapped, number=1000))\n",
    "\n",
    "#Quarto\n",
    "wrapped = wrapper(bubbleSort, quartob)\n",
    "display(timeit.timeit(wrapped, number=1000))"
   ]
  },
  {
   "cell_type": "code",
   "execution_count": 6,
   "metadata": {},
   "outputs": [
    {
     "data": {
      "text/plain": [
       "1.073018203999709"
      ]
     },
     "metadata": {},
     "output_type": "display_data"
    },
    {
     "data": {
      "text/plain": [
       "4.509694125999886"
      ]
     },
     "metadata": {},
     "output_type": "display_data"
    },
    {
     "data": {
      "text/plain": [
       "9.383569180999984"
      ]
     },
     "metadata": {},
     "output_type": "display_data"
    },
    {
     "data": {
      "text/plain": [
       "16.374190189999354"
      ]
     },
     "metadata": {},
     "output_type": "display_data"
    }
   ],
   "source": [
    "# Testando Quick Sort\n",
    "#Primeiro\n",
    "wrapped = wrapper(quickSort, primeiroq)\n",
    "display(timeit.timeit(wrapped, number=1000))\n",
    "\n",
    "#Segundo\n",
    "wrapped = wrapper(quickSort, segundoq)\n",
    "display(timeit.timeit(wrapped, number=1000))\n",
    "\n",
    "#Terceiro\n",
    "wrapped = wrapper(quickSort, terceiroq)\n",
    "display(timeit.timeit(wrapped, number=1000))\n",
    "\n",
    "#Quarto\n",
    "wrapped = wrapper(quickSort, quartoq)\n",
    "display(timeit.timeit(wrapped, number=1000))"
   ]
  },
  {
   "cell_type": "code",
   "execution_count": 7,
   "metadata": {},
   "outputs": [
    {
     "data": {
      "text/plain": [
       "0.042800492999958806"
      ]
     },
     "metadata": {},
     "output_type": "display_data"
    },
    {
     "data": {
      "text/plain": [
       "0.09355534400037868"
      ]
     },
     "metadata": {},
     "output_type": "display_data"
    },
    {
     "data": {
      "text/plain": [
       "0.15222777399958431"
      ]
     },
     "metadata": {},
     "output_type": "display_data"
    },
    {
     "data": {
      "text/plain": [
       "0.21986094899966702"
      ]
     },
     "metadata": {},
     "output_type": "display_data"
    }
   ],
   "source": [
    "#Testando Gnome Sort\n",
    "#Primeiro\n",
    "wrapped = wrapper(gnomeSort, primeirog)\n",
    "display(timeit.timeit(wrapped, number=1000))\n",
    "\n",
    "#Segundo\n",
    "wrapped = wrapper(gnomeSort, segundog)\n",
    "display(timeit.timeit(wrapped, number=1000))\n",
    "\n",
    "#Terceiro\n",
    "wrapped = wrapper(gnomeSort, terceirog)\n",
    "display(timeit.timeit(wrapped, number=1000))\n",
    "\n",
    "#Quarto\n",
    "wrapped = wrapper(gnomeSort, quartog)\n",
    "display(timeit.timeit(wrapped, number=1000))"
   ]
  }
 ],
 "metadata": {
  "kernelspec": {
   "display_name": "Python 3",
   "language": "python",
   "name": "python3"
  },
  "language_info": {
   "codemirror_mode": {
    "name": "ipython",
    "version": 3
   },
   "file_extension": ".py",
   "mimetype": "text/x-python",
   "name": "python",
   "nbconvert_exporter": "python",
   "pygments_lexer": "ipython3",
   "version": "3.6.3"
  }
 },
 "nbformat": 4,
 "nbformat_minor": 2
}
